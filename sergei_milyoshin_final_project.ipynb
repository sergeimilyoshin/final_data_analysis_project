{
 "cells": [
  {
   "cell_type": "markdown",
   "metadata": {},
   "source": [
    "# Проект: вариант 1\n",
    "\n",
    "Представьте, что вы работаете в компании, которая разрабатывает мобильные игры. К вам пришел менеджер с рядом задач по исследованию нескольких аспектов мобильного приложения:\n",
    "\n",
    "    В первую очередь, его интересует показатель retention. Напишите функцию для его подсчета.\n",
    "    Помимо этого, в компании провели A/B тестирование наборов акционных предложений. На основе имеющихся данных определите, какой набор можно считать лучшим и на основе каких метрик стоит принять правильное решение.\n",
    "    Предложите метрики для оценки результатов последнего прошедшего тематического события в игре.\n",
    "     \n",
    "\n",
    "### Задание 1\n",
    "\n",
    "Retention – один из самых важных показателей в компании. Ваша задача – написать функцию, которая будет считать retention игроков (по дням от даты регистрации игрока). Данные лежат в папке shared и имеют следующую структуру:\n",
    "\n",
    "    shared/problem1-reg_data.csv – данные о времени регистрации\n",
    "\n",
    "reg_ts\tuid\n",
    "906166566\t2\n",
    "906344325\t3\n",
    "906686169\t4\n",
    "906893386\t5\n",
    "906980227\t6\n",
    "\n",
    "    shared/problem1-auth_data.csv – данные о времени захода пользователей в игру\n",
    "\n",
    "auth_ts\tuid\n",
    "906166566\t2\n",
    "924422172\t2\n",
    "937374732\t2\n",
    "947425117\t2\n",
    "955630339\t2\n",
    "\n",
    "Функция должна быть написана на python. В ходе решения можно тестировать работу функции как на полном датасете, так и на части (сэмпле) данных."
   ]
  },
  {
   "cell_type": "code",
   "execution_count": 1,
   "metadata": {},
   "outputs": [],
   "source": [
    "# Вариант 1 Задание 1\n",
    "# Загрузка библиотек и чтение файлов\n",
    "# Вывод первой строки датасетов для проверки\n",
    "\n",
    "import pandas as pd\n",
    "import numpy as np\n",
    "import matplotlib.pyplot as plt\n",
    "import matplotlib.ticker as ticker\n",
    "from matplotlib import colors as mcolors\n",
    "import seaborn as sns\n",
    "from operator import attrgetter\n",
    "import pingouin as pg\n",
    "from scipy import stats\n",
    "\n",
    "OUTDATED_IGNORE=1"
   ]
  },
  {
   "cell_type": "code",
   "execution_count": 2,
   "metadata": {},
   "outputs": [
    {
     "name": "stderr",
     "output_type": "stream",
     "text": [
      "/opt/tljh/user/lib/python3.7/site-packages/outdated/utils.py:18: OutdatedCacheFailedWarning: Failed to use cache while checking for outdated package.\n",
      "Set the environment variable OUTDATED_RAISE_EXCEPTION=1 for a full traceback.\n",
      "Set the environment variable OUTDATED_IGNORE=1 to disable these warnings.\n",
      "  **kwargs\n",
      "/opt/tljh/user/lib/python3.7/site-packages/outdated/utils.py:18: OutdatedPackageWarning: The package outdated is out of date. Your version is 0.2.1, the latest is 0.2.2.\n",
      "Set the environment variable OUTDATED_IGNORE=1 to disable these warnings.\n",
      "  **kwargs\n",
      "/opt/tljh/user/lib/python3.7/site-packages/outdated/utils.py:18: OutdatedPackageWarning: The package pingouin is out of date. Your version is 0.4.0, the latest is 0.5.5.\n",
      "Set the environment variable OUTDATED_IGNORE=1 to disable these warnings.\n",
      "  **kwargs\n"
     ]
    },
    {
     "data": {
      "text/html": [
       "<div>\n",
       "<style scoped>\n",
       "    .dataframe tbody tr th:only-of-type {\n",
       "        vertical-align: middle;\n",
       "    }\n",
       "\n",
       "    .dataframe tbody tr th {\n",
       "        vertical-align: top;\n",
       "    }\n",
       "\n",
       "    .dataframe thead th {\n",
       "        text-align: right;\n",
       "    }\n",
       "</style>\n",
       "<table border=\"1\" class=\"dataframe\">\n",
       "  <thead>\n",
       "    <tr style=\"text-align: right;\">\n",
       "      <th></th>\n",
       "      <th>reg_ts;uid</th>\n",
       "    </tr>\n",
       "  </thead>\n",
       "  <tbody>\n",
       "    <tr>\n",
       "      <th>0</th>\n",
       "      <td>911382223;1</td>\n",
       "    </tr>\n",
       "  </tbody>\n",
       "</table>\n",
       "</div>"
      ],
      "text/plain": [
       "    reg_ts;uid\n",
       "0  911382223;1"
      ]
     },
     "execution_count": 2,
     "metadata": {},
     "output_type": "execute_result"
    }
   ],
   "source": [
    "reg_data = pd.read_csv('/mnt/HC_Volume_18315164/home-jupyter/jupyter-s-mileshin/shared/problem1-reg_data.csv')\n",
    "auth_data = pd.read_csv('/mnt/HC_Volume_18315164/home-jupyter/jupyter-s-mileshin/shared/problem1-auth_data.csv') \n",
    "reg_data.head(1)"
   ]
  },
  {
   "cell_type": "code",
   "execution_count": 3,
   "metadata": {},
   "outputs": [
    {
     "data": {
      "text/html": [
       "<div>\n",
       "<style scoped>\n",
       "    .dataframe tbody tr th:only-of-type {\n",
       "        vertical-align: middle;\n",
       "    }\n",
       "\n",
       "    .dataframe tbody tr th {\n",
       "        vertical-align: top;\n",
       "    }\n",
       "\n",
       "    .dataframe thead th {\n",
       "        text-align: right;\n",
       "    }\n",
       "</style>\n",
       "<table border=\"1\" class=\"dataframe\">\n",
       "  <thead>\n",
       "    <tr style=\"text-align: right;\">\n",
       "      <th></th>\n",
       "      <th>auth_ts;uid</th>\n",
       "    </tr>\n",
       "  </thead>\n",
       "  <tbody>\n",
       "    <tr>\n",
       "      <th>0</th>\n",
       "      <td>911382223;1</td>\n",
       "    </tr>\n",
       "  </tbody>\n",
       "</table>\n",
       "</div>"
      ],
      "text/plain": [
       "   auth_ts;uid\n",
       "0  911382223;1"
      ]
     },
     "execution_count": 3,
     "metadata": {},
     "output_type": "execute_result"
    }
   ],
   "source": [
    "auth_data.head(1)"
   ]
  },
  {
   "cell_type": "code",
   "execution_count": 4,
   "metadata": {},
   "outputs": [
    {
     "name": "stdout",
     "output_type": "stream",
     "text": [
      "<class 'pandas.core.frame.DataFrame'>\n",
      "RangeIndex: 1000000 entries, 0 to 999999\n",
      "Data columns (total 2 columns):\n",
      " #   Column  Non-Null Count    Dtype         \n",
      "---  ------  --------------    -----         \n",
      " 0   reg_ts  1000000 non-null  datetime64[ns]\n",
      " 1   uid     1000000 non-null  int64         \n",
      "dtypes: datetime64[ns](1), int64(1)\n",
      "memory usage: 15.3 MB\n",
      "None\n",
      "<class 'pandas.core.frame.DataFrame'>\n",
      "RangeIndex: 9601013 entries, 0 to 9601012\n",
      "Data columns (total 2 columns):\n",
      " #   Column   Dtype         \n",
      "---  ------   -----         \n",
      " 0   auth_ts  datetime64[ns]\n",
      " 1   uid      int64         \n",
      "dtypes: datetime64[ns](1), int64(1)\n",
      "memory usage: 146.5 MB\n",
      "None\n"
     ]
    }
   ],
   "source": [
    "# Указываем разделитель (;) при чтении файлов для корректного отображения\n",
    "\n",
    "reg_data = pd.read_csv('/mnt/HC_Volume_18315164/home-jupyter/jupyter-s-mileshin/shared/problem1-reg_data.csv', sep = ';')\n",
    "auth_data = pd.read_csv('/mnt/HC_Volume_18315164/home-jupyter/jupyter-s-mileshin/shared/problem1-auth_data.csv', sep = ';')\n",
    "\n",
    "# Дата указана в формате Unix Time, меняем формат на стандартный и выводим информацию по датасетам\n",
    "\n",
    "reg_data['reg_ts'] = pd.to_datetime(reg_data['reg_ts'],unit='s')\n",
    "auth_data['auth_ts'] = pd.to_datetime(auth_data['auth_ts'],unit='s')\n",
    "\n",
    "print(reg_data.info())\n",
    "\n",
    "print(auth_data.info())"
   ]
  },
  {
   "cell_type": "code",
   "execution_count": 5,
   "metadata": {},
   "outputs": [
    {
     "data": {
      "text/plain": [
       "auth_ts    0\n",
       "uid        0\n",
       "dtype: int64"
      ]
     },
     "execution_count": 5,
     "metadata": {},
     "output_type": "execute_result"
    }
   ],
   "source": [
    "# Проверка auth_data на пропущенные значения (метод info() не показал их подсчет)\n",
    "auth_data.isna().sum()\n",
    "# Пропущенных значений нет"
   ]
  },
  {
   "cell_type": "code",
   "execution_count": 6,
   "metadata": {},
   "outputs": [
    {
     "name": "stdout",
     "output_type": "stream",
     "text": [
      "<class 'pandas.core.frame.DataFrame'>\n",
      "Int64Index: 9601013 entries, 0 to 9601012\n",
      "Data columns (total 3 columns):\n",
      " #   Column   Dtype         \n",
      "---  ------   -----         \n",
      " 0   reg_ts   datetime64[ns]\n",
      " 1   uid      int64         \n",
      " 2   auth_ts  datetime64[ns]\n",
      "dtypes: datetime64[ns](2), int64(1)\n",
      "memory usage: 293.0 MB\n"
     ]
    }
   ],
   "source": [
    "# Объединение датасетов и проверка результата\n",
    "full_data = reg_data.merge(auth_data, how = 'right', on = 'uid')\n",
    "full_data.info()"
   ]
  },
  {
   "cell_type": "code",
   "execution_count": 7,
   "metadata": {},
   "outputs": [
    {
     "data": {
      "text/plain": [
       "reg_ts     0\n",
       "uid        0\n",
       "auth_ts    0\n",
       "dtype: int64"
      ]
     },
     "execution_count": 7,
     "metadata": {},
     "output_type": "execute_result"
    }
   ],
   "source": [
    "# Проверка full_data на пропущенные значения\n",
    "full_data.isna().sum()\n",
    "# Пропущенных значений нет"
   ]
  },
  {
   "cell_type": "code",
   "execution_count": 8,
   "metadata": {},
   "outputs": [],
   "source": [
    "# Функция для подсчета retention по дням\n",
    "\n",
    "# def retention_matrix(full_data):\n"
   ]
  },
  {
   "cell_type": "code",
   "execution_count": 9,
   "metadata": {},
   "outputs": [
    {
     "data": {
      "text/html": [
       "<div>\n",
       "<style scoped>\n",
       "    .dataframe tbody tr th:only-of-type {\n",
       "        vertical-align: middle;\n",
       "    }\n",
       "\n",
       "    .dataframe tbody tr th {\n",
       "        vertical-align: top;\n",
       "    }\n",
       "\n",
       "    .dataframe thead th {\n",
       "        text-align: right;\n",
       "    }\n",
       "</style>\n",
       "<table border=\"1\" class=\"dataframe\">\n",
       "  <thead>\n",
       "    <tr style=\"text-align: right;\">\n",
       "      <th></th>\n",
       "      <th>reg_ts</th>\n",
       "      <th>uid</th>\n",
       "      <th>auth_ts</th>\n",
       "      <th>cohort_day</th>\n",
       "    </tr>\n",
       "  </thead>\n",
       "  <tbody>\n",
       "    <tr>\n",
       "      <th>0</th>\n",
       "      <td>1998-11-18 09:43:43</td>\n",
       "      <td>1</td>\n",
       "      <td>1998-11-18 09:43:43</td>\n",
       "      <td>0 days 00:00:00</td>\n",
       "    </tr>\n",
       "    <tr>\n",
       "      <th>1</th>\n",
       "      <td>1999-07-22 22:38:09</td>\n",
       "      <td>2</td>\n",
       "      <td>1999-07-22 22:38:09</td>\n",
       "      <td>0 days 00:00:00</td>\n",
       "    </tr>\n",
       "    <tr>\n",
       "      <th>2</th>\n",
       "      <td>1999-07-22 22:38:09</td>\n",
       "      <td>2</td>\n",
       "      <td>1999-07-25 16:46:46</td>\n",
       "      <td>2 days 18:08:37</td>\n",
       "    </tr>\n",
       "    <tr>\n",
       "      <th>3</th>\n",
       "      <td>1999-07-22 22:38:09</td>\n",
       "      <td>2</td>\n",
       "      <td>1999-07-31 03:50:15</td>\n",
       "      <td>8 days 05:12:06</td>\n",
       "    </tr>\n",
       "    <tr>\n",
       "      <th>4</th>\n",
       "      <td>1999-07-22 22:38:09</td>\n",
       "      <td>2</td>\n",
       "      <td>1999-08-05 17:49:39</td>\n",
       "      <td>13 days 19:11:30</td>\n",
       "    </tr>\n",
       "  </tbody>\n",
       "</table>\n",
       "</div>"
      ],
      "text/plain": [
       "               reg_ts  uid             auth_ts       cohort_day\n",
       "0 1998-11-18 09:43:43    1 1998-11-18 09:43:43  0 days 00:00:00\n",
       "1 1999-07-22 22:38:09    2 1999-07-22 22:38:09  0 days 00:00:00\n",
       "2 1999-07-22 22:38:09    2 1999-07-25 16:46:46  2 days 18:08:37\n",
       "3 1999-07-22 22:38:09    2 1999-07-31 03:50:15  8 days 05:12:06\n",
       "4 1999-07-22 22:38:09    2 1999-08-05 17:49:39 13 days 19:11:30"
      ]
     },
     "execution_count": 9,
     "metadata": {},
     "output_type": "execute_result"
    }
   ],
   "source": [
    "full_data_copy = full_data.copy() # создали копию\n",
    "full_data_copy['cohort_day'] = full_data_copy['auth_ts'] - full_data_copy['reg_ts']\n",
    "full_data_copy.head()"
   ]
  },
  {
   "cell_type": "markdown",
   "metadata": {},
   "source": [
    "### Задание 2\n",
    "\n",
    "Имеются результаты A/B теста, в котором двум группам пользователей предлагались различные наборы акционных предложений. Известно, что ARPU в тестовой группе выше на 5%, чем в контрольной. При этом в контрольной группе 1928 игроков из 202103 оказались платящими, а в тестовой – 1805 из 202667.\n",
    "\n",
    "Какой набор предложений можно считать лучшим? Какие метрики стоит проанализировать для принятия правильного решения и как?\n",
    "\n",
    "Формат данных: user_id revenue testgroup 1 0 b 2 0 a 3 0 a 4 0 b 5 0 b"
   ]
  },
  {
   "cell_type": "markdown",
   "metadata": {},
   "source": [
    "<div class=\"alert alert-block alert-info\">\n",
    "\n",
    "#### Предлагается проверить метрики: Revenue, ARPU, ARPPU и Конверсия в платящих пользователей. Сначала итоговые показатели, потом вероятность получить статзначимую разницу в результатах.\n",
    "1. Гипотеза 0: Акционные предложения оказывают одинаковое влияние на результаты.\n",
    "2. Гипотеза 1: Акционные предложения оказывают разное влияние на результаты."
   ]
  },
  {
   "cell_type": "code",
   "execution_count": 10,
   "metadata": {},
   "outputs": [
    {
     "data": {
      "text/html": [
       "<div>\n",
       "<style scoped>\n",
       "    .dataframe tbody tr th:only-of-type {\n",
       "        vertical-align: middle;\n",
       "    }\n",
       "\n",
       "    .dataframe tbody tr th {\n",
       "        vertical-align: top;\n",
       "    }\n",
       "\n",
       "    .dataframe thead th {\n",
       "        text-align: right;\n",
       "    }\n",
       "</style>\n",
       "<table border=\"1\" class=\"dataframe\">\n",
       "  <thead>\n",
       "    <tr style=\"text-align: right;\">\n",
       "      <th></th>\n",
       "      <th>user_id</th>\n",
       "      <th>revenue</th>\n",
       "      <th>testgroup</th>\n",
       "    </tr>\n",
       "  </thead>\n",
       "  <tbody>\n",
       "    <tr>\n",
       "      <th>0</th>\n",
       "      <td>1</td>\n",
       "      <td>0</td>\n",
       "      <td>b</td>\n",
       "    </tr>\n",
       "    <tr>\n",
       "      <th>1</th>\n",
       "      <td>2</td>\n",
       "      <td>0</td>\n",
       "      <td>a</td>\n",
       "    </tr>\n",
       "    <tr>\n",
       "      <th>2</th>\n",
       "      <td>3</td>\n",
       "      <td>0</td>\n",
       "      <td>a</td>\n",
       "    </tr>\n",
       "    <tr>\n",
       "      <th>3</th>\n",
       "      <td>4</td>\n",
       "      <td>0</td>\n",
       "      <td>b</td>\n",
       "    </tr>\n",
       "    <tr>\n",
       "      <th>4</th>\n",
       "      <td>5</td>\n",
       "      <td>0</td>\n",
       "      <td>b</td>\n",
       "    </tr>\n",
       "  </tbody>\n",
       "</table>\n",
       "</div>"
      ],
      "text/plain": [
       "   user_id  revenue testgroup\n",
       "0        1        0         b\n",
       "1        2        0         a\n",
       "2        3        0         a\n",
       "3        4        0         b\n",
       "4        5        0         b"
      ]
     },
     "execution_count": 10,
     "metadata": {},
     "output_type": "execute_result"
    }
   ],
   "source": [
    "# Загружаем датасет, проверяем разделители, приводим к читабельному виду\n",
    "ab_data = pd.read_csv('Проект_1_Задание_2.csv', sep = ';')\n",
    "ab_data.head()\n",
    "# С датасетом ab_data можно работать дальше"
   ]
  },
  {
   "cell_type": "code",
   "execution_count": 11,
   "metadata": {},
   "outputs": [
    {
     "name": "stdout",
     "output_type": "stream",
     "text": [
      "<class 'pandas.core.frame.DataFrame'>\n",
      "RangeIndex: 404770 entries, 0 to 404769\n",
      "Data columns (total 3 columns):\n",
      " #   Column     Non-Null Count   Dtype \n",
      "---  ------     --------------   ----- \n",
      " 0   user_id    404770 non-null  int64 \n",
      " 1   revenue    404770 non-null  int64 \n",
      " 2   testgroup  404770 non-null  object\n",
      "dtypes: int64(2), object(1)\n",
      "memory usage: 9.3+ MB\n"
     ]
    }
   ],
   "source": [
    "# Проверяем типы данных \n",
    "ab_data.info()\n",
    "# Они пригодны для исследования"
   ]
  },
  {
   "cell_type": "code",
   "execution_count": 12,
   "metadata": {},
   "outputs": [
    {
     "data": {
      "text/plain": [
       "user_id      0\n",
       "revenue      0\n",
       "testgroup    0\n",
       "dtype: int64"
      ]
     },
     "execution_count": 12,
     "metadata": {},
     "output_type": "execute_result"
    }
   ],
   "source": [
    "# Проверяем пропуски в данных\n",
    "ab_data.isna().sum()\n",
    "# Пропусков нет, можно анализировать"
   ]
  },
  {
   "cell_type": "code",
   "execution_count": 27,
   "metadata": {},
   "outputs": [
    {
     "data": {
      "text/html": [
       "<div>\n",
       "<style scoped>\n",
       "    .dataframe tbody tr th:only-of-type {\n",
       "        vertical-align: middle;\n",
       "    }\n",
       "\n",
       "    .dataframe tbody tr th {\n",
       "        vertical-align: top;\n",
       "    }\n",
       "\n",
       "    .dataframe thead th {\n",
       "        text-align: right;\n",
       "    }\n",
       "</style>\n",
       "<table border=\"1\" class=\"dataframe\">\n",
       "  <thead>\n",
       "    <tr style=\"text-align: right;\">\n",
       "      <th></th>\n",
       "      <th>testgroup</th>\n",
       "      <th>revenue</th>\n",
       "      <th>auc</th>\n",
       "      <th>puc</th>\n",
       "      <th>arpu</th>\n",
       "      <th>arppu</th>\n",
       "      <th>conversion</th>\n",
       "    </tr>\n",
       "  </thead>\n",
       "  <tbody>\n",
       "    <tr>\n",
       "      <th>0</th>\n",
       "      <td>a</td>\n",
       "      <td>5136189</td>\n",
       "      <td>202103</td>\n",
       "      <td>1928</td>\n",
       "      <td>25.41</td>\n",
       "      <td>2664.00</td>\n",
       "      <td>0.953969</td>\n",
       "    </tr>\n",
       "    <tr>\n",
       "      <th>1</th>\n",
       "      <td>b</td>\n",
       "      <td>5421603</td>\n",
       "      <td>202667</td>\n",
       "      <td>1805</td>\n",
       "      <td>26.75</td>\n",
       "      <td>3003.66</td>\n",
       "      <td>0.890624</td>\n",
       "    </tr>\n",
       "  </tbody>\n",
       "</table>\n",
       "</div>"
      ],
      "text/plain": [
       "  testgroup  revenue     auc   puc   arpu    arppu  conversion\n",
       "0         a  5136189  202103  1928  25.41  2664.00    0.953969\n",
       "1         b  5421603  202667  1805  26.75  3003.66    0.890624"
      ]
     },
     "execution_count": 27,
     "metadata": {},
     "output_type": "execute_result"
    }
   ],
   "source": [
    "# Сравним абсолютные результаты revenue, arpu, arppu и конверсии в платящих пользователей\n",
    "\n",
    "ab_data_copy = ab_data.copy() # делаем копию, чтобы не менять исходный датасет\n",
    "ab_data_copy['pu'] = ab_data_copy['revenue'] > 0 # добавляем колонку с True/False для определения платящих пользователей\n",
    "\n",
    "# Группируем по группам a и b, подсчитываем revenue, всех пользователей (auc), платящих пользователей (puc)\n",
    "\n",
    "agg_ab_data = ab_data_copy.groupby('testgroup').agg( \n",
    "revenue = ('revenue', 'sum'),\n",
    "auc = ('user_id', 'count'),\n",
    "puc = ('pu', 'sum')\n",
    ").reset_index()\n",
    "\n",
    "agg_ab_data['arpu'] = round(agg_ab_data['revenue'] / agg_ab_data['auc'], 2) # расчет arpu\n",
    "agg_ab_data['arppu'] = round(agg_ab_data['revenue'] / agg_ab_data['puc'], 2) # расчет arppu\n",
    "agg_ab_data['conversion'] = (agg_ab_data['puc'] / agg_ab_data['auc']) * 100 # расчет conversion\n",
    "\n",
    "agg_ab_data"
   ]
  },
  {
   "cell_type": "code",
   "execution_count": 30,
   "metadata": {},
   "outputs": [
    {
     "data": {
      "text/html": [
       "<div>\n",
       "<style scoped>\n",
       "    .dataframe tbody tr th:only-of-type {\n",
       "        vertical-align: middle;\n",
       "    }\n",
       "\n",
       "    .dataframe tbody tr th {\n",
       "        vertical-align: top;\n",
       "    }\n",
       "\n",
       "    .dataframe thead th {\n",
       "        text-align: right;\n",
       "    }\n",
       "</style>\n",
       "<table border=\"1\" class=\"dataframe\">\n",
       "  <thead>\n",
       "    <tr style=\"text-align: right;\">\n",
       "      <th></th>\n",
       "      <th>revenue</th>\n",
       "      <th>arpu</th>\n",
       "      <th>arppu</th>\n",
       "      <th>conversion</th>\n",
       "      <th>testgroup</th>\n",
       "    </tr>\n",
       "  </thead>\n",
       "  <tbody>\n",
       "    <tr>\n",
       "      <th>0</th>\n",
       "      <td>NaN</td>\n",
       "      <td>NaN</td>\n",
       "      <td>NaN</td>\n",
       "      <td>NaN</td>\n",
       "      <td>a</td>\n",
       "    </tr>\n",
       "    <tr>\n",
       "      <th>1</th>\n",
       "      <td>285414.0</td>\n",
       "      <td>1.34</td>\n",
       "      <td>339.66</td>\n",
       "      <td>-0.063345</td>\n",
       "      <td>b</td>\n",
       "    </tr>\n",
       "  </tbody>\n",
       "</table>\n",
       "</div>"
      ],
      "text/plain": [
       "    revenue  arpu   arppu  conversion testgroup\n",
       "0       NaN   NaN     NaN         NaN         a\n",
       "1  285414.0  1.34  339.66   -0.063345         b"
      ]
     },
     "execution_count": 30,
     "metadata": {},
     "output_type": "execute_result"
    }
   ],
   "source": [
    "# Рассчитаем разницу между показателями и сделаем предварительные выводы\n",
    "diff_df = agg_ab_data[['revenue', 'arpu', 'arppu', 'conversion']].diff()\n",
    "diff_df['testgroup'] = agg_ab_data['testgroup']\n",
    "diff_df\n"
   ]
  },
  {
   "cell_type": "markdown",
   "metadata": {},
   "source": [
    "<div class=\"alert alert-block alert-info\">\n",
    "Предварительный вывод: группа b показывает положительную динамику во всех показателях, кроме конверсии. С натяжкой можно заключить, что набор акционных предложений для группы b работает лучше.<br><br>\n",
    "Однако, для подтверждения этого вывода, необходимо провести статистические тесты."
   ]
  },
  {
   "cell_type": "code",
   "execution_count": 14,
   "metadata": {},
   "outputs": [
    {
     "data": {
      "text/html": [
       "<div>\n",
       "<style scoped>\n",
       "    .dataframe tbody tr th:only-of-type {\n",
       "        vertical-align: middle;\n",
       "    }\n",
       "\n",
       "    .dataframe tbody tr th {\n",
       "        vertical-align: top;\n",
       "    }\n",
       "\n",
       "    .dataframe thead th {\n",
       "        text-align: right;\n",
       "    }\n",
       "</style>\n",
       "<table border=\"1\" class=\"dataframe\">\n",
       "  <thead>\n",
       "    <tr style=\"text-align: right;\">\n",
       "      <th></th>\n",
       "      <th>W</th>\n",
       "      <th>pval</th>\n",
       "      <th>normal</th>\n",
       "    </tr>\n",
       "  </thead>\n",
       "  <tbody>\n",
       "    <tr>\n",
       "      <th>revenue</th>\n",
       "      <td>585152.731273</td>\n",
       "      <td>0.0</td>\n",
       "      <td>False</td>\n",
       "    </tr>\n",
       "  </tbody>\n",
       "</table>\n",
       "</div>"
      ],
      "text/plain": [
       "                     W  pval  normal\n",
       "revenue  585152.731273   0.0   False"
      ]
     },
     "execution_count": 14,
     "metadata": {},
     "output_type": "execute_result"
    }
   ],
   "source": [
    "# Проверим revenue групп на нормальность распределения (pg.normality) и равенство дисперсий (stats.levene)\n",
    "group_a = ab_data.query(\"testgroup == 'a'\")['revenue']\n",
    "group_b = ab_data.query(\"testgroup == 'b'\")['revenue']\n",
    "\n",
    "pg.normality(group_a, method='normaltest')"
   ]
  },
  {
   "cell_type": "code",
   "execution_count": 15,
   "metadata": {},
   "outputs": [
    {
     "data": {
      "text/html": [
       "<div>\n",
       "<style scoped>\n",
       "    .dataframe tbody tr th:only-of-type {\n",
       "        vertical-align: middle;\n",
       "    }\n",
       "\n",
       "    .dataframe tbody tr th {\n",
       "        vertical-align: top;\n",
       "    }\n",
       "\n",
       "    .dataframe thead th {\n",
       "        text-align: right;\n",
       "    }\n",
       "</style>\n",
       "<table border=\"1\" class=\"dataframe\">\n",
       "  <thead>\n",
       "    <tr style=\"text-align: right;\">\n",
       "      <th></th>\n",
       "      <th>W</th>\n",
       "      <th>pval</th>\n",
       "      <th>normal</th>\n",
       "    </tr>\n",
       "  </thead>\n",
       "  <tbody>\n",
       "    <tr>\n",
       "      <th>revenue</th>\n",
       "      <td>326622.395409</td>\n",
       "      <td>0.0</td>\n",
       "      <td>False</td>\n",
       "    </tr>\n",
       "  </tbody>\n",
       "</table>\n",
       "</div>"
      ],
      "text/plain": [
       "                     W  pval  normal\n",
       "revenue  326622.395409   0.0   False"
      ]
     },
     "execution_count": 15,
     "metadata": {},
     "output_type": "execute_result"
    }
   ],
   "source": [
    "pg.normality(group_b, method='normaltest')"
   ]
  },
  {
   "cell_type": "code",
   "execution_count": 16,
   "metadata": {},
   "outputs": [
    {
     "name": "stdout",
     "output_type": "stream",
     "text": [
      "0.3896289474701388 0.5324948591043842\n"
     ]
    }
   ],
   "source": [
    "stat, p_value = stats.levene(group_a, group_b)\n",
    "print(stat, p_value)\n",
    "\n",
    "# Распределение revenue ненормальное (False для обеих групп), но дисперсии равны (p_value > 0.05)"
   ]
  },
  {
   "cell_type": "code",
   "execution_count": 17,
   "metadata": {},
   "outputs": [
    {
     "data": {
      "text/plain": [
       "Ttest_indResult(statistic=-0.6234876562792212, pvalue=0.5329647014130866)"
      ]
     },
     "execution_count": 17,
     "metadata": {},
     "output_type": "execute_result"
    }
   ],
   "source": [
    "# Учитывая размер выборок (более 200 тыс участников в каждой группе), можно пренебречь ненормальностью распределения\n",
    "# и провести t-test с критерием Уэлча для выявления статзначимости различий в ARPU\n",
    "\n",
    "stats.ttest_ind(group_a, group_b, equal_var = False)\n",
    "\n",
    "# Не отвергаем нулевую гипотезу, поскольку p-value > 0.05. Не найдены статистически значимые отличия."
   ]
  },
  {
   "cell_type": "code",
   "execution_count": 18,
   "metadata": {},
   "outputs": [
    {
     "data": {
      "text/plain": [
       "Ttest_indResult(statistic=-1.6446302664300838, pvalue=0.10020780398916015)"
      ]
     },
     "execution_count": 18,
     "metadata": {},
     "output_type": "execute_result"
    }
   ],
   "source": [
    "# Проводим такой же тест для ARPPU (только для платящих пользователей)\n",
    "# Размер выборок меньше, но все еще достаточно большой (более 1800 участников в каждой группе)\n",
    "\n",
    "group_a_pu = ab_data.query(\"testgroup == 'a' and revenue > 0\")['revenue']\n",
    "group_b_pu = ab_data.query(\"testgroup == 'b' and revenue > 0\")['revenue']\n",
    "\n",
    "stats.ttest_ind(group_a_pu, group_b_pu, equal_var = False)\n",
    "\n",
    "# Не отвергаем нулевую гипотезу, поскольку p-value > 0.05. Не найдены статистически значимые отличия."
   ]
  },
  {
   "cell_type": "code",
   "execution_count": 19,
   "metadata": {},
   "outputs": [
    {
     "name": "stdout",
     "output_type": "stream",
     "text": [
      "Полученное p-value 0.035028524642854865 меньше 0.05. Нулевая гипотеза отклоняется.\n"
     ]
    }
   ],
   "source": [
    "# Проводим z-test для пропорций (конверсии всех пользователей в платящих), так как chi2-test слишком консервативен\n",
    "# и может привести к ошибке второго рода\n",
    "# Нам известны данные о количестве платящих пользователей в обеих группах (pu) и общая численность групп (au).\n",
    "\n",
    "from statsmodels.stats.proportion import proportions_ztest\n",
    "\n",
    "pu = np.array([1928, 1805])\n",
    "au = np.array([202103, 202667])\n",
    "stat, pval = proportions_ztest(pu, au)\n",
    "if pval < 0.05:\n",
    "    print(f'Полученное p-value {pval} меньше 0.05. Нулевая гипотеза отклоняется.')\n",
    "else:\n",
    "    print(f'Полученное p-value {pval} больше 0.05. Нулевая гипотеза принимается.')"
   ]
  },
  {
   "cell_type": "markdown",
   "metadata": {},
   "source": [
    "### Задание 3\n",
    "\n",
    "В игре Plants & Gardens каждый месяц проводятся тематические события, ограниченные по времени. В них игроки могут получить уникальные предметы для сада и персонажей, дополнительные монеты или бонусы. Для получения награды требуется пройти ряд уровней за определенное время. С помощью каких метрик можно оценить результаты последнего прошедшего события?\n",
    "\n",
    "Предположим, в другом событии мы усложнили механику событий так, что при каждой неудачной попытке выполнения уровня игрок будет откатываться на несколько уровней назад. Изменится ли набор метрик оценки результата? Если да, то как?"
   ]
  },
  {
   "cell_type": "markdown",
   "metadata": {},
   "source": [
    "<div class=\"alert alert-block alert-info\">\n",
    "\n",
    "#### Для оценки динамики и тренда метрик по результатам проведения события (акции) предлагается рассмотреть следующее: <br><br>\n",
    "1. MAU/WAU/DAU (в зависимости от периода акции) - покажут эффективность применения акции<br>\n",
    "2. Новые пользователи - покажут привлекательность упоминания акций в приложении/сторонних рекламах/SM и эффективность \"сарафанного радио\" среди игроков<br>\n",
    "3. Конверсия игрока без акций в игрока с акциями - покажет привлекательность акции для текущих пользователей<br>\n",
    "4. ARPU (если акция платная) - покажет ценность \"артефактов\" и \"призов\", за ненужное деньги не платят (сомнительная метрика, не уверен. Обычно артефакты просто монетизируются, заплатил - получил)<br>\n",
    "5. Retetntion rate (коэффициент удержания) - покажет привлекательность акций для \"старых\" игроков<br>\n",
    "6. Среднее количество пройденных уровней за сесссию - покажет выполнимость задания. Если будет негативный тренд, значит или заданий много или времени мало<br>\n",
    "7. Среднее время прохождения всех уровней в сессии - похоже на предыдущую метрику. Можно регулировать количество заданий за период, чтобы пользователи успевали проходить все уровни и не чувствовали разочарование<br>\n",
    "8. Среднеее время игровой сессии - увеличится, если акция проходит в рамках основной игры<br>\n",
    "9. Количество сессий - увеличится, если акция проходит вне рамок основной игры<br>\n",
    "10. Среднее общее игровое время - увеличится и при акции в рамках основной игры и при акции вне рамок основной игры <br><br> \n",
    "    \n",
    "#### С учетом отката на несколько уровней назад в упомянутые метрики добавится: <br><br>\n",
    "1. Churn rate или просто количество отписок после завершения акции - покажет разочарование игрока, так как игрок может уйти из приложения из-за снижения своего рейтинга."
   ]
  }
 ],
 "metadata": {
  "kernelspec": {
   "display_name": "Python 3",
   "language": "python",
   "name": "python3"
  },
  "language_info": {
   "codemirror_mode": {
    "name": "ipython",
    "version": 3
   },
   "file_extension": ".py",
   "mimetype": "text/x-python",
   "name": "python",
   "nbconvert_exporter": "python",
   "pygments_lexer": "ipython3",
   "version": "3.7.3"
  }
 },
 "nbformat": 4,
 "nbformat_minor": 4
}
