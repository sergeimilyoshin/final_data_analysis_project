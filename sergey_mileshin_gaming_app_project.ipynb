{
 "cells": [
  {
   "cell_type": "markdown",
   "metadata": {},
   "source": [
    "# Проект для компании-разработчика мобильных игр\n",
    "\n",
    "### Задание 1\n",
    "\n",
    "Написать функцию для retention rate по дням за весь или заданный период.\n",
    "\n",
    "Данные хранятся в 2 датасетах:  \n",
    "problem1-reg_data.csv – данные о времени регистрации. По ним присвоим когорту.  \n",
    "problem1-auth_data.csv – данные о времени захода пользователей в игру. Новый заход - день возврата."
   ]
  },
  {
   "cell_type": "code",
   "execution_count": 1,
   "metadata": {},
   "outputs": [],
   "source": [
    "OUTDATED_RAISE_EXCEPTION=1\n",
    "OUTDATED_IGNORE=1\n",
    "\n",
    "import pandas as pd\n",
    "import numpy as np\n",
    "import matplotlib.pyplot as plt\n",
    "import matplotlib.ticker as ticker\n",
    "from matplotlib import colors as mcolors\n",
    "import seaborn as sns\n",
    "from operator import attrgetter\n",
    "import pingouin as pg\n",
    "from scipy import stats"
   ]
  },
  {
   "cell_type": "code",
   "execution_count": 2,
   "metadata": {},
   "outputs": [
    {
     "name": "stderr",
     "output_type": "stream",
     "text": [
      "/opt/tljh/user/lib/python3.7/site-packages/outdated/utils.py:18: OutdatedCacheFailedWarning: Failed to use cache while checking for outdated package.\n",
      "Set the environment variable OUTDATED_RAISE_EXCEPTION=1 for a full traceback.\n",
      "Set the environment variable OUTDATED_IGNORE=1 to disable these warnings.\n",
      "  **kwargs\n",
      "/opt/tljh/user/lib/python3.7/site-packages/outdated/utils.py:18: OutdatedPackageWarning: The package outdated is out of date. Your version is 0.2.1, the latest is 0.2.2.\n",
      "Set the environment variable OUTDATED_IGNORE=1 to disable these warnings.\n",
      "  **kwargs\n",
      "/opt/tljh/user/lib/python3.7/site-packages/outdated/utils.py:18: OutdatedPackageWarning: The package pingouin is out of date. Your version is 0.4.0, the latest is 0.5.5.\n",
      "Set the environment variable OUTDATED_IGNORE=1 to disable these warnings.\n",
      "  **kwargs\n"
     ]
    },
    {
     "data": {
      "text/html": [
       "<div>\n",
       "<style scoped>\n",
       "    .dataframe tbody tr th:only-of-type {\n",
       "        vertical-align: middle;\n",
       "    }\n",
       "\n",
       "    .dataframe tbody tr th {\n",
       "        vertical-align: top;\n",
       "    }\n",
       "\n",
       "    .dataframe thead th {\n",
       "        text-align: right;\n",
       "    }\n",
       "</style>\n",
       "<table border=\"1\" class=\"dataframe\">\n",
       "  <thead>\n",
       "    <tr style=\"text-align: right;\">\n",
       "      <th></th>\n",
       "      <th>reg_ts;uid</th>\n",
       "    </tr>\n",
       "  </thead>\n",
       "  <tbody>\n",
       "    <tr>\n",
       "      <th>0</th>\n",
       "      <td>911382223;1</td>\n",
       "    </tr>\n",
       "  </tbody>\n",
       "</table>\n",
       "</div>"
      ],
      "text/plain": [
       "    reg_ts;uid\n",
       "0  911382223;1"
      ]
     },
     "execution_count": 2,
     "metadata": {},
     "output_type": "execute_result"
    }
   ],
   "source": [
    "# Считаем файлы, выведем первую строку\n",
    "reg_data = pd.read_csv('/mnt/HC_Volume_18315164/home-jupyter/jupyter-s-mileshin/shared/problem1-reg_data.csv')\n",
    "auth_data = pd.read_csv('/mnt/HC_Volume_18315164/home-jupyter/jupyter-s-mileshin/shared/problem1-auth_data.csv') \n",
    "reg_data.head(1)"
   ]
  },
  {
   "cell_type": "code",
   "execution_count": 3,
   "metadata": {},
   "outputs": [
    {
     "data": {
      "text/html": [
       "<div>\n",
       "<style scoped>\n",
       "    .dataframe tbody tr th:only-of-type {\n",
       "        vertical-align: middle;\n",
       "    }\n",
       "\n",
       "    .dataframe tbody tr th {\n",
       "        vertical-align: top;\n",
       "    }\n",
       "\n",
       "    .dataframe thead th {\n",
       "        text-align: right;\n",
       "    }\n",
       "</style>\n",
       "<table border=\"1\" class=\"dataframe\">\n",
       "  <thead>\n",
       "    <tr style=\"text-align: right;\">\n",
       "      <th></th>\n",
       "      <th>auth_ts;uid</th>\n",
       "    </tr>\n",
       "  </thead>\n",
       "  <tbody>\n",
       "    <tr>\n",
       "      <th>0</th>\n",
       "      <td>911382223;1</td>\n",
       "    </tr>\n",
       "  </tbody>\n",
       "</table>\n",
       "</div>"
      ],
      "text/plain": [
       "   auth_ts;uid\n",
       "0  911382223;1"
      ]
     },
     "execution_count": 3,
     "metadata": {},
     "output_type": "execute_result"
    }
   ],
   "source": [
    "auth_data.head(1)"
   ]
  },
  {
   "cell_type": "markdown",
   "metadata": {},
   "source": [
    "Разделитель в датасетах - точка с запятой, даты представлены в формате Unix Timestamp. Добавим исправляющий код в функцию."
   ]
  },
  {
   "cell_type": "code",
   "execution_count": 4,
   "metadata": {},
   "outputs": [
    {
     "data": {
      "text/plain": [
       "reg_ts;uid    0\n",
       "dtype: int64"
      ]
     },
     "execution_count": 4,
     "metadata": {},
     "output_type": "execute_result"
    }
   ],
   "source": [
    "# Проверка reg_data на пропущенные значения\n",
    "reg_data.isna().sum()\n",
    "# Пропущенных значений нет"
   ]
  },
  {
   "cell_type": "code",
   "execution_count": 5,
   "metadata": {},
   "outputs": [
    {
     "data": {
      "text/plain": [
       "auth_ts;uid    0\n",
       "dtype: int64"
      ]
     },
     "execution_count": 5,
     "metadata": {},
     "output_type": "execute_result"
    }
   ],
   "source": [
    "# Проверка auth_data на пропущенные значения\n",
    "auth_data.isna().sum()\n",
    "# Пропущенных значений нет"
   ]
  },
  {
   "cell_type": "code",
   "execution_count": 6,
   "metadata": {},
   "outputs": [
    {
     "name": "stdout",
     "output_type": "stream",
     "text": [
      "Минимальная дата - 1998-11-18 09:43:43, максимальная дата - 2020-09-23 15:17:24.\n"
     ]
    }
   ],
   "source": [
    "# Проверим диапазон дат в auth_data, переведя их в pandas datetime\n",
    "auth_data = pd.read_csv('/mnt/HC_Volume_18315164/home-jupyter/jupyter-s-mileshin/shared/problem1-auth_data.csv', sep = ';') \n",
    "auth_data['auth_ts'] = pd.to_datetime(auth_data['auth_ts'],unit='s')\n",
    "print(f'Минимальная дата - {auth_data[\"auth_ts\"].min()}, максимальная дата - {auth_data[\"auth_ts\"].max()}.')"
   ]
  },
  {
   "cell_type": "code",
   "execution_count": 24,
   "metadata": {},
   "outputs": [],
   "source": [
    "# Напишем функцию для расчета Retention rate в заданный период\n",
    "\n",
    "def period_retention_matrix(reg_data_file, auth_data_file, period_start, period_end):\n",
    "    \n",
    "    # Считываем файлы, указываем разделитель\n",
    "    reg_data = pd.read_csv(reg_data_file, sep = ';')\n",
    "    auth_data = pd.read_csv(auth_data_file, sep = ';')\n",
    "    \n",
    "    # Преобразуем Unix Timestamp в pandas Datetype и сокращаем до дня\n",
    "    reg_data['reg_ts'] = pd.to_datetime(reg_data['reg_ts'],unit='s').dt.to_period('D')\n",
    "    auth_data['auth_ts'] = pd.to_datetime(auth_data['auth_ts'],unit='s').dt.to_period('D')\n",
    "    \n",
    "    # Объединяем датасеты по uid, используем right merge, чтобы сохранить все даты авторизаций\n",
    "    full_data = reg_data.merge(auth_data, how = 'right', on = 'uid')\n",
    "    \n",
    "    # Добавляем колонку с номером дня возврата пользователя, преобразуем тип в integer\n",
    "    full_data['return_day'] = (full_data['auth_ts'] - full_data['reg_ts']).apply(lambda x: x.n)\n",
    "    \n",
    "    # Преобразуем даты начала и конца задаваемого периода, чтобы по ним можно было фильтровать итоговый датасет\n",
    "    period_start = pd.to_datetime(period_start).to_period('D') \n",
    "    period_end = pd.to_datetime(period_end).to_period('D') \n",
    "    \n",
    "    # Формируем итоговый датасет, отфильтрованный по указанным датам\n",
    "    period_data = full_data.query('reg_ts >= @period_start & auth_ts <= @period_end')\n",
    "    \n",
    "    # Создаем pivot-таблицу для подсчета когорт. Индексы - дни когорты, колонки - дни возвращения, \n",
    "    # данные - агрегированные количества уникальных пользователей в когорте.\n",
    "    period_pivot = period_data.pivot_table(index='reg_ts', columns='return_day', values='uid', aggfunc='nunique')\n",
    "    \n",
    "    # Создаем переменную для количества пользователей в нулевых когортах \n",
    "    cohort_0 = period_pivot.iloc[:, 0]\n",
    "    \n",
    "    # Создаем финальный датасет с рассчитанными значениями Retention rate по дням возвращения\n",
    "    period_retention_matrix = period_pivot.divide(cohort_0, axis=0)\n",
    "    \n",
    "    # Строим тепловую карту с Retention rate (коэффициентами удержания), но не берем данные нулевой когорты (100%)\n",
    "    # для более показательного хитмэпа.\n",
    "    with sns.axes_style(\"white\"):\n",
    "        fig, ax = plt.subplots(1, 2, figsize=(16, 12), sharey=True, gridspec_kw={'width_ratios': [1, 11]})\n",
    "\n",
    "    sns.heatmap(period_retention_matrix.iloc[:, 1:],\n",
    "                mask=period_retention_matrix.iloc[:, 1:].isnull(),\n",
    "                annot=True,\n",
    "                fmt='.1%',\n",
    "                cmap='Spectral',\n",
    "                ax=ax[1])\n",
    "    ax[1].set_title('Коэффициенты удержания пользователей по дням', fontsize=16)\n",
    "    ax[1].set(xlabel='№ периода', ylabel='Когорта')"
   ]
  },
  {
   "cell_type": "code",
   "execution_count": 25,
   "metadata": {},
   "outputs": [
    {
     "data": {
      "image/png": "[encoded data removed]",
      "text/plain": [
       "<Figure size 1152x864 with 3 Axes>"
      ]
     },
     "metadata": {},
     "output_type": "display_data"
    }
   ],
   "source": [
    "# Проверка работы функции\n",
    "reg_data_file = '/mnt/HC_Volume_18315164/home-jupyter/jupyter-s-mileshin/shared/problem1-reg_data.csv'\n",
    "auth_data_file = '/mnt/HC_Volume_18315164/home-jupyter/jupyter-s-mileshin/shared/problem1-auth_data.csv'\n",
    "\n",
    "period_retention_matrix(reg_data_file, auth_data_file, '2020-02-01', '2020-02-15')"
   ]
  },
  {
   "cell_type": "markdown",
   "metadata": {},
   "source": [
    "### Задание 2\n",
    "\n",
    "По результатам A/B теста для двух групп с разными акционными предложениями оценить, какое предложение лучше.  \n",
    "Предложить гипотезы и метрики для их проверки.  \n",
    "Данные хранятся в датасете \"Проект_1_Задание_2.csv\"."
   ]
  },
  {
   "cell_type": "markdown",
   "metadata": {},
   "source": [
    "<div class=\"alert alert-block alert-info\">\n",
    "\n",
    "#### Предлагается проверить метрики: Revenue, ARPU, ARPPU и Конверсия в платящих пользователей. Сначала итоговые показатели, потом вероятность получить статзначимую разницу в результатах.\n",
    "1. Гипотеза 0: Акционные предложения не влияют на изменения метрик в группах.\n",
    "2. Гипотеза 1: Акционные предложения влияют на изменения метрик в группах."
   ]
  },
  {
   "cell_type": "code",
   "execution_count": 9,
   "metadata": {},
   "outputs": [
    {
     "data": {
      "text/html": [
       "<div>\n",
       "<style scoped>\n",
       "    .dataframe tbody tr th:only-of-type {\n",
       "        vertical-align: middle;\n",
       "    }\n",
       "\n",
       "    .dataframe tbody tr th {\n",
       "        vertical-align: top;\n",
       "    }\n",
       "\n",
       "    .dataframe thead th {\n",
       "        text-align: right;\n",
       "    }\n",
       "</style>\n",
       "<table border=\"1\" class=\"dataframe\">\n",
       "  <thead>\n",
       "    <tr style=\"text-align: right;\">\n",
       "      <th></th>\n",
       "      <th>user_id</th>\n",
       "      <th>revenue</th>\n",
       "      <th>testgroup</th>\n",
       "    </tr>\n",
       "  </thead>\n",
       "  <tbody>\n",
       "    <tr>\n",
       "      <th>0</th>\n",
       "      <td>1</td>\n",
       "      <td>0</td>\n",
       "      <td>b</td>\n",
       "    </tr>\n",
       "    <tr>\n",
       "      <th>1</th>\n",
       "      <td>2</td>\n",
       "      <td>0</td>\n",
       "      <td>a</td>\n",
       "    </tr>\n",
       "    <tr>\n",
       "      <th>2</th>\n",
       "      <td>3</td>\n",
       "      <td>0</td>\n",
       "      <td>a</td>\n",
       "    </tr>\n",
       "    <tr>\n",
       "      <th>3</th>\n",
       "      <td>4</td>\n",
       "      <td>0</td>\n",
       "      <td>b</td>\n",
       "    </tr>\n",
       "    <tr>\n",
       "      <th>4</th>\n",
       "      <td>5</td>\n",
       "      <td>0</td>\n",
       "      <td>b</td>\n",
       "    </tr>\n",
       "  </tbody>\n",
       "</table>\n",
       "</div>"
      ],
      "text/plain": [
       "   user_id  revenue testgroup\n",
       "0        1        0         b\n",
       "1        2        0         a\n",
       "2        3        0         a\n",
       "3        4        0         b\n",
       "4        5        0         b"
      ]
     },
     "execution_count": 9,
     "metadata": {},
     "output_type": "execute_result"
    }
   ],
   "source": [
    "# Загружаем датасет, проверяем разделители, приводим к читабельному виду\n",
    "ab_data = pd.read_csv('Проект_1_Задание_2.csv', sep = ';')\n",
    "ab_data.head()\n",
    "# С датасетом ab_data можно работать дальше"
   ]
  },
  {
   "cell_type": "code",
   "execution_count": 10,
   "metadata": {},
   "outputs": [
    {
     "name": "stdout",
     "output_type": "stream",
     "text": [
      "<class 'pandas.core.frame.DataFrame'>\n",
      "RangeIndex: 404770 entries, 0 to 404769\n",
      "Data columns (total 3 columns):\n",
      " #   Column     Non-Null Count   Dtype \n",
      "---  ------     --------------   ----- \n",
      " 0   user_id    404770 non-null  int64 \n",
      " 1   revenue    404770 non-null  int64 \n",
      " 2   testgroup  404770 non-null  object\n",
      "dtypes: int64(2), object(1)\n",
      "memory usage: 9.3+ MB\n"
     ]
    }
   ],
   "source": [
    "# Проверяем типы данных \n",
    "ab_data.info()\n",
    "# Они пригодны для исследования"
   ]
  },
  {
   "cell_type": "code",
   "execution_count": 11,
   "metadata": {},
   "outputs": [
    {
     "data": {
      "text/plain": [
       "user_id      0\n",
       "revenue      0\n",
       "testgroup    0\n",
       "dtype: int64"
      ]
     },
     "execution_count": 11,
     "metadata": {},
     "output_type": "execute_result"
    }
   ],
   "source": [
    "# Проверяем пропуски в данных\n",
    "ab_data.isna().sum()\n",
    "# Пропусков нет, можно анализировать"
   ]
  },
  {
   "cell_type": "code",
   "execution_count": 12,
   "metadata": {},
   "outputs": [
    {
     "data": {
      "text/html": [
       "<div>\n",
       "<style scoped>\n",
       "    .dataframe tbody tr th:only-of-type {\n",
       "        vertical-align: middle;\n",
       "    }\n",
       "\n",
       "    .dataframe tbody tr th {\n",
       "        vertical-align: top;\n",
       "    }\n",
       "\n",
       "    .dataframe thead th {\n",
       "        text-align: right;\n",
       "    }\n",
       "</style>\n",
       "<table border=\"1\" class=\"dataframe\">\n",
       "  <thead>\n",
       "    <tr style=\"text-align: right;\">\n",
       "      <th></th>\n",
       "      <th>testgroup</th>\n",
       "      <th>revenue</th>\n",
       "      <th>auc</th>\n",
       "      <th>puc</th>\n",
       "      <th>arpu</th>\n",
       "      <th>arppu</th>\n",
       "      <th>conversion</th>\n",
       "    </tr>\n",
       "  </thead>\n",
       "  <tbody>\n",
       "    <tr>\n",
       "      <th>0</th>\n",
       "      <td>a</td>\n",
       "      <td>5136189</td>\n",
       "      <td>202103</td>\n",
       "      <td>1928</td>\n",
       "      <td>25.41</td>\n",
       "      <td>2664.00</td>\n",
       "      <td>0.953969</td>\n",
       "    </tr>\n",
       "    <tr>\n",
       "      <th>1</th>\n",
       "      <td>b</td>\n",
       "      <td>5421603</td>\n",
       "      <td>202667</td>\n",
       "      <td>1805</td>\n",
       "      <td>26.75</td>\n",
       "      <td>3003.66</td>\n",
       "      <td>0.890624</td>\n",
       "    </tr>\n",
       "  </tbody>\n",
       "</table>\n",
       "</div>"
      ],
      "text/plain": [
       "  testgroup  revenue     auc   puc   arpu    arppu  conversion\n",
       "0         a  5136189  202103  1928  25.41  2664.00    0.953969\n",
       "1         b  5421603  202667  1805  26.75  3003.66    0.890624"
      ]
     },
     "execution_count": 12,
     "metadata": {},
     "output_type": "execute_result"
    }
   ],
   "source": [
    "# Сравним абсолютные результаты revenue, arpu, arppu и конверсии в платящих пользователей\n",
    "\n",
    "ab_data_copy = ab_data.copy() # делаем копию, чтобы не менять исходный датасет\n",
    "ab_data_copy['pu'] = ab_data_copy['revenue'] > 0 # добавляем колонку с True/False для определения платящих пользователей\n",
    "\n",
    "# Группируем по группам A и B, подсчитываем revenue, количество всех пользователей (auc) \n",
    "# и количество платящих пользователей (puc)\n",
    "\n",
    "agg_ab_data = ab_data_copy.groupby('testgroup').agg( \n",
    "revenue = ('revenue', 'sum'),\n",
    "auc = ('user_id', 'count'),\n",
    "puc = ('pu', 'sum')\n",
    ").reset_index()\n",
    "\n",
    "agg_ab_data['arpu'] = round(agg_ab_data['revenue'] / agg_ab_data['auc'], 2) # расчет arpu\n",
    "agg_ab_data['arppu'] = round(agg_ab_data['revenue'] / agg_ab_data['puc'], 2) # расчет arppu\n",
    "agg_ab_data['conversion'] = (agg_ab_data['puc'] / agg_ab_data['auc']) * 100 # расчет conversion\n",
    "\n",
    "agg_ab_data"
   ]
  },
  {
   "cell_type": "code",
   "execution_count": 13,
   "metadata": {},
   "outputs": [
    {
     "data": {
      "text/html": [
       "<div>\n",
       "<style scoped>\n",
       "    .dataframe tbody tr th:only-of-type {\n",
       "        vertical-align: middle;\n",
       "    }\n",
       "\n",
       "    .dataframe tbody tr th {\n",
       "        vertical-align: top;\n",
       "    }\n",
       "\n",
       "    .dataframe thead th {\n",
       "        text-align: right;\n",
       "    }\n",
       "</style>\n",
       "<table border=\"1\" class=\"dataframe\">\n",
       "  <thead>\n",
       "    <tr style=\"text-align: right;\">\n",
       "      <th></th>\n",
       "      <th>revenue</th>\n",
       "      <th>arpu</th>\n",
       "      <th>arppu</th>\n",
       "      <th>conversion</th>\n",
       "      <th>testgroup</th>\n",
       "    </tr>\n",
       "  </thead>\n",
       "  <tbody>\n",
       "    <tr>\n",
       "      <th>0</th>\n",
       "      <td>NaN</td>\n",
       "      <td>NaN</td>\n",
       "      <td>NaN</td>\n",
       "      <td>NaN</td>\n",
       "      <td>a</td>\n",
       "    </tr>\n",
       "    <tr>\n",
       "      <th>1</th>\n",
       "      <td>285414.0</td>\n",
       "      <td>1.34</td>\n",
       "      <td>339.66</td>\n",
       "      <td>-0.063345</td>\n",
       "      <td>b</td>\n",
       "    </tr>\n",
       "  </tbody>\n",
       "</table>\n",
       "</div>"
      ],
      "text/plain": [
       "    revenue  arpu   arppu  conversion testgroup\n",
       "0       NaN   NaN     NaN         NaN         a\n",
       "1  285414.0  1.34  339.66   -0.063345         b"
      ]
     },
     "execution_count": 13,
     "metadata": {},
     "output_type": "execute_result"
    }
   ],
   "source": [
    "# Рассчитаем разницу между показателями и сделаем предварительные выводы\n",
    "diff_df = agg_ab_data[['revenue', 'arpu', 'arppu', 'conversion']].diff()\n",
    "diff_df['testgroup'] = agg_ab_data['testgroup']\n",
    "diff_df\n"
   ]
  },
  {
   "cell_type": "markdown",
   "metadata": {},
   "source": [
    "<div class=\"alert alert-block alert-info\">\n",
    "Предварительный вывод: группа b показывает положительную динамику во всех показателях, кроме конверсии. С натяжкой можно заключить, что набор акционных предложений для группы b работает лучше.<br><br>\n",
    "Однако, для подтверждения этого вывода, необходимо провести статистические тесты."
   ]
  },
  {
   "cell_type": "code",
   "execution_count": 14,
   "metadata": {},
   "outputs": [
    {
     "data": {
      "text/html": [
       "<div>\n",
       "<style scoped>\n",
       "    .dataframe tbody tr th:only-of-type {\n",
       "        vertical-align: middle;\n",
       "    }\n",
       "\n",
       "    .dataframe tbody tr th {\n",
       "        vertical-align: top;\n",
       "    }\n",
       "\n",
       "    .dataframe thead th {\n",
       "        text-align: right;\n",
       "    }\n",
       "</style>\n",
       "<table border=\"1\" class=\"dataframe\">\n",
       "  <thead>\n",
       "    <tr style=\"text-align: right;\">\n",
       "      <th></th>\n",
       "      <th>W</th>\n",
       "      <th>pval</th>\n",
       "      <th>normal</th>\n",
       "    </tr>\n",
       "  </thead>\n",
       "  <tbody>\n",
       "    <tr>\n",
       "      <th>revenue</th>\n",
       "      <td>585152.731273</td>\n",
       "      <td>0.0</td>\n",
       "      <td>False</td>\n",
       "    </tr>\n",
       "  </tbody>\n",
       "</table>\n",
       "</div>"
      ],
      "text/plain": [
       "                     W  pval  normal\n",
       "revenue  585152.731273   0.0   False"
      ]
     },
     "execution_count": 14,
     "metadata": {},
     "output_type": "execute_result"
    }
   ],
   "source": [
    "# Проверим revenue групп на нормальность распределения (pg.normality) и равенство дисперсий (stats.levene)\n",
    "group_a = ab_data.query(\"testgroup == 'a'\")['revenue']\n",
    "group_b = ab_data.query(\"testgroup == 'b'\")['revenue']\n",
    "\n",
    "pg.normality(group_a, method='normaltest')"
   ]
  },
  {
   "cell_type": "code",
   "execution_count": 15,
   "metadata": {},
   "outputs": [
    {
     "data": {
      "text/html": [
       "<div>\n",
       "<style scoped>\n",
       "    .dataframe tbody tr th:only-of-type {\n",
       "        vertical-align: middle;\n",
       "    }\n",
       "\n",
       "    .dataframe tbody tr th {\n",
       "        vertical-align: top;\n",
       "    }\n",
       "\n",
       "    .dataframe thead th {\n",
       "        text-align: right;\n",
       "    }\n",
       "</style>\n",
       "<table border=\"1\" class=\"dataframe\">\n",
       "  <thead>\n",
       "    <tr style=\"text-align: right;\">\n",
       "      <th></th>\n",
       "      <th>W</th>\n",
       "      <th>pval</th>\n",
       "      <th>normal</th>\n",
       "    </tr>\n",
       "  </thead>\n",
       "  <tbody>\n",
       "    <tr>\n",
       "      <th>revenue</th>\n",
       "      <td>326622.395409</td>\n",
       "      <td>0.0</td>\n",
       "      <td>False</td>\n",
       "    </tr>\n",
       "  </tbody>\n",
       "</table>\n",
       "</div>"
      ],
      "text/plain": [
       "                     W  pval  normal\n",
       "revenue  326622.395409   0.0   False"
      ]
     },
     "execution_count": 15,
     "metadata": {},
     "output_type": "execute_result"
    }
   ],
   "source": [
    "pg.normality(group_b, method='normaltest')"
   ]
  },
  {
   "cell_type": "code",
   "execution_count": 16,
   "metadata": {},
   "outputs": [
    {
     "name": "stdout",
     "output_type": "stream",
     "text": [
      "0.3896289474701388 0.5324948591043842\n"
     ]
    }
   ],
   "source": [
    "stat, p_value = stats.levene(group_a, group_b)\n",
    "print(stat, p_value)\n",
    "\n",
    "# Распределение revenue ненормальное (False для обеих групп), но дисперсии равны (p_value > 0.05)"
   ]
  },
  {
   "cell_type": "code",
   "execution_count": 17,
   "metadata": {},
   "outputs": [
    {
     "data": {
      "text/plain": [
       "Ttest_indResult(statistic=-0.6234876562792212, pvalue=0.5329647014130866)"
      ]
     },
     "execution_count": 17,
     "metadata": {},
     "output_type": "execute_result"
    }
   ],
   "source": [
    "# Учитывая размер выборок (более 200 тыс участников в каждой группе), можно пренебречь ненормальностью распределения\n",
    "# и провести t-test с критерием Уэлча для выявления статзначимости различий в ARPU\n",
    "\n",
    "stats.ttest_ind(group_a, group_b, equal_var = False)\n",
    "\n",
    "# Не отвергаем нулевую гипотезу, поскольку p-value > 0.05. Не найдены статистически значимые отличия."
   ]
  },
  {
   "cell_type": "code",
   "execution_count": 18,
   "metadata": {},
   "outputs": [
    {
     "data": {
      "text/plain": [
       "Ttest_indResult(statistic=-1.6446302664300838, pvalue=0.10020780398916015)"
      ]
     },
     "execution_count": 18,
     "metadata": {},
     "output_type": "execute_result"
    }
   ],
   "source": [
    "# Проводим такой же тест для ARPPU (только для платящих пользователей)\n",
    "# Размер выборок меньше, но все еще достаточно большой (более 1800 участников в каждой группе)\n",
    "\n",
    "group_a_pu = ab_data.query(\"testgroup == 'a' and revenue > 0\")['revenue']\n",
    "group_b_pu = ab_data.query(\"testgroup == 'b' and revenue > 0\")['revenue']\n",
    "\n",
    "stats.ttest_ind(group_a_pu, group_b_pu, equal_var = False)\n",
    "\n",
    "# Не отвергаем нулевую гипотезу, поскольку p-value > 0.05. Не найдены статистически значимые отличия."
   ]
  },
  {
   "cell_type": "code",
   "execution_count": 19,
   "metadata": {},
   "outputs": [
    {
     "data": {
      "image/png": "[encoded data removed]",
      "text/plain": [
       "<Figure size 720x432 with 1 Axes>"
      ]
     },
     "metadata": {
      "needs_background": "light"
     },
     "output_type": "display_data"
    }
   ],
   "source": [
    "# Визуализируем распределение revenue для каждой группы\n",
    "plt.figure(figsize=(10, 6))\n",
    "\n",
    "# Построение гистограммы для группы а\n",
    "sns.histplot(group_a_pu, bins=10, kde=True, color='blue', alpha=0.5)\n",
    "plt.title('Распределение Revenue для группы A')\n",
    "plt.xlabel('Revenue')\n",
    "plt.ylabel('Частота')\n",
    "plt.grid(axis='y', alpha=0.75)\n",
    "plt.show()"
   ]
  },
  {
   "cell_type": "code",
   "execution_count": 20,
   "metadata": {},
   "outputs": [
    {
     "data": {
      "image/png": "[encoded data removed]",
      "text/plain": [
       "<Figure size 432x288 with 1 Axes>"
      ]
     },
     "metadata": {
      "needs_background": "light"
     },
     "output_type": "display_data"
    }
   ],
   "source": [
    "# Построение гистограммы для группы b\n",
    "sns.histplot(group_b_pu, bins=10, kde=True, color='blue', alpha=0.5)\n",
    "plt.title('Распределение Revenue для группы B')\n",
    "plt.xlabel('Revenue')\n",
    "plt.ylabel('Частота')\n",
    "plt.grid(axis='y', alpha=0.75)\n",
    "plt.show()"
   ]
  },
  {
   "cell_type": "code",
   "execution_count": 21,
   "metadata": {},
   "outputs": [
    {
     "name": "stdout",
     "output_type": "stream",
     "text": [
      "Статистика равна 2.108028495889841. Полученное p-value 0.035028524642854865 меньше 0.05. Нулевая гипотеза отклоняется.\n"
     ]
    }
   ],
   "source": [
    "# Проводим z-test для пропорций (конверсии всех пользователей в платящих), так как chi2-test слишком консервативен\n",
    "# и может привести к ошибке второго рода\n",
    "# Нам известны данные о количестве платящих пользователей в обеих группах (pu) и общая численность групп (au).\n",
    "\n",
    "from statsmodels.stats.proportion import proportions_ztest\n",
    "\n",
    "pu = np.array([1928, 1805])\n",
    "au = np.array([202103, 202667])\n",
    "stat, pval = proportions_ztest(pu, au)\n",
    "if pval < 0.05:\n",
    "    print(f'Статистика равна {stat}. Полученное p-value {pval} меньше 0.05. Нулевая гипотеза отклоняется.')\n",
    "else:\n",
    "    print(f'Статистика равна {stat}. Полученное p-value {pval} больше 0.05. Нулевая гипотеза принимается.')"
   ]
  },
  {
   "cell_type": "markdown",
   "metadata": {},
   "source": [
    "<div class=\"alert alert-block alert-info\">\n",
    "    \n",
    "#### Выводы по Заданию 2<br>\n",
    "Для полноценного анализа существуют существенные ограничения и сам эксперимент можно поставить под сомнение потому что:<br>\n",
    "- Сплитование было проведено с нарушением, расходы игроков сильно различаются между группами<br>\n",
    "- Мы не знаем причину выбросов в группе A, отсутствует описание клиентов, самих игр, условий акций... У нас есть только revenue.<br>\n",
    "- Мы не знаем в течение какого времени собирались данные.<br>\n",
    "- Эксперимент могли закончить раньше срока, получив в какой-то момент p-value для конверсий ниже референсного значения.<br><br>\n",
    "\n",
    "На основании проведенного анализа и статтестов можно заключить:\n",
    "Значения денежных метрик в группе B выросли, сгладились выбросы Revenue, но конверсия в платящего пользователя упала. Изменения ARPU и ARPPU не показали статистически значимых результатов, можно сказать, что условия акций для обеих групп имеют одинаковое влияние. При этом, сравнение конверсий (пропорций) в z-test показало статистически значимую разницу, но, поскольку конверсия в платящего пользователя в группе B незначительно упала, можно с осторожностью предположить, что условия для группы B немного хуже, чем для группы А. В целом ситуация крайне противоречивая из-за результатов тестов и однозначные выводы делать рано.<br>\n",
    "\n",
    "Рекомендации: провести правильное сплитование и новый A/B-тест до получения однозначных и устойчивых p-value при тестировании всех метрик."
   ]
  },
  {
   "cell_type": "markdown",
   "metadata": {},
   "source": [
    "### Задание 3\n",
    "\n",
    "Предложить метрики для оценки ежемесячных событий, когда за успешное прохождение нескольких уровней на время игроки могут получить артефакты, дополнительные монеты или бонусы. Нужны метрики для случаев, когда при неудаче ничего не происходит и когда игрок за непрохождение откатывается на несколько уровней назад."
   ]
  },
  {
   "cell_type": "markdown",
   "metadata": {},
   "source": [
    "<div class=\"alert alert-block alert-info\">\n",
    "\n",
    "#### Для оценки динамики и тренда метрик по результатам проведения события (акции) предлагается рассмотреть следующее: <br><br>\n",
    "1. MAU/WAU/DAU (в зависимости от точного периода акции) - покажут эффективность применения акции<br>\n",
    "2. Новые пользователи - покажут привлекательность упоминания акций в приложении/сторонних рекламах/SM и эффективность \"сарафанного радио\" среди игроков<br>\n",
    "3. Конверсия игрока без акций в игрока с акциями - покажет привлекательность акции для текущих пользователей<br>\n",
    "4. ARPU (если акция платная) - покажет ценность \"артефактов\" и \"призов\", за ненужное деньги не платят (сомнительная метрика, не уверен. Обычно артефакты просто монетизируются, заплатил - получил)<br>\n",
    "5. Retetntion rate (коэффициент удержания) - покажет привлекательность акций для \"старых\" игроков<br>\n",
    "6. Среднее количество пройденных уровней за сесссию - покажет выполнимость задания. Если будет негативный тренд, значит или заданий много или времени мало<br>\n",
    "7. Среднее время прохождения всех уровней в сессии - похоже на предыдущую метрику. Можно регулировать количество заданий за период, чтобы пользователи успевали проходить все уровни и не чувствовали разочарование<br>\n",
    "8. Среднеее время игровой сессии - увеличится, если акция проходит в рамках основной игры<br>\n",
    "9. Количество сессий - увеличится, если акция проходит вне рамок основной игры<br>\n",
    "10. Среднее общее игровое время - увеличится и при акции в рамках основной игры и при акции вне рамок основной игры <br><br> \n",
    "    \n",
    "#### С учетом отката на несколько уровней назад в упомянутые метрики добавится: <br><br>\n",
    "1. Churn rate или просто количество отписок после завершения акции - покажет разочарование игрока, так как игрок может уйти из приложения из-за снижения своего рейтинга."
   ]
  }
 ],
 "metadata": {
  "kernelspec": {
   "display_name": "Python 3 (ipykernel)",
   "language": "python",
   "name": "python3"
  },
  "language_info": {
   "codemirror_mode": {
    "name": "ipython",
    "version": 3
   },
   "file_extension": ".py",
   "mimetype": "text/x-python",
   "name": "python",
   "nbconvert_exporter": "python",
   "pygments_lexer": "ipython3",
   "version": "3.11.4"
  }
 },
 "nbformat": 4,
 "nbformat_minor": 4
}
